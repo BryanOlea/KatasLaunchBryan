{
 "cells": [
  {
   "cell_type": "markdown",
   "metadata": {},
   "source": [
    "## Ejercicio 1: Trabajar con argumentos en funciones"
   ]
  },
  {
   "cell_type": "markdown",
   "metadata": {},
   "source": [
    "Comienza por crear una función que necesite tres lecturas de combustible y devuelva un informe:"
   ]
  },
  {
   "cell_type": "code",
   "execution_count": 3,
   "metadata": {},
   "outputs": [
    {
     "name": "stdout",
     "output_type": "stream",
     "text": [
      "Infrome\n",
      "    El combustible promedio es 3.3333333333333335\n",
      "    Tanque 1 con 5 de combustible\n",
      "    Tanque 2 con 2 de combustible\n",
      "    Tanque 3 con 3 de combustible\n"
     ]
    }
   ],
   "source": [
    "def tanque(m1,m2,m3):\n",
    "    promedio=(m1+m2+m3)/3\n",
    "    print(f\"\"\"Infrome\n",
    "    El combustible promedio es {promedio}\n",
    "    Tanque 1 con {m1} de combustible\n",
    "    Tanque 2 con {m2} de combustible\n",
    "    Tanque 3 con {m3} de combustible\"\"\")\n",
    "\n",
    "tanque(5,2,3)"
   ]
  },
  {
   "cell_type": "markdown",
   "metadata": {},
   "source": [
    "En lugar de simplemente crear el informe, la función también está calculando el promedio. Mejora la legibilidad extrayendo el cálculo promedio de la función en una nueva función para que el promedio se pueda hacer de forma independiente:"
   ]
  },
  {
   "cell_type": "code",
   "execution_count": 4,
   "metadata": {},
   "outputs": [],
   "source": [
    "def average(combustible):\n",
    "    promedio=sum(combustible)/len(combustible)\n",
    "    return promedio\n"
   ]
  },
  {
   "cell_type": "markdown",
   "metadata": {},
   "source": [
    "Ahora actualiza la función de informes para llamando a la nueva función del promedio:"
   ]
  },
  {
   "cell_type": "code",
   "execution_count": 6,
   "metadata": {},
   "outputs": [
    {
     "name": "stdout",
     "output_type": "stream",
     "text": [
      "Infrome\n",
      "    El combustible promedio es 3.3333333333333335\n",
      "    Tanque 1 con 5 de combustible\n",
      "    Tanque 2 con 2 de combustible\n",
      "    Tanque 3 con 3 de combustible\n"
     ]
    }
   ],
   "source": [
    "def tanque(m1,m2,m3):\n",
    "    print(f\"\"\"Infrome\n",
    "    El combustible promedio es {average([m1,m2,m3])}\n",
    "    Tanque 1 con {m1} de combustible\n",
    "    Tanque 2 con {m2} de combustible\n",
    "    Tanque 3 con {m3} de combustible\"\"\")\n",
    "\n",
    "tanque(5,2,3)"
   ]
  },
  {
   "cell_type": "markdown",
   "metadata": {},
   "source": [
    "## Ejercicio 2: Trabajo con argumentos de palabra clave"
   ]
  },
  {
   "cell_type": "markdown",
   "metadata": {},
   "source": [
    "En este ejercicio, construirás un informe de cohete que requiere varias piezas de información, como el tiempo hasta el destino, el combustible a la izquierda y el nombre del destino. Comienza por crear una función que creará un informe preciso de la misión:"
   ]
  },
  {
   "cell_type": "code",
   "execution_count": 10,
   "metadata": {},
   "outputs": [
    {
     "name": "stdout",
     "output_type": "stream",
     "text": [
      "Infrome\n",
      "    La hora de prelanzamiento es 1400\n",
      "    El tiempo al destino es 5000\n",
      "    El destino es luna\n",
      "    El combustible en el tanque externo es 10\n",
      "    El combustible en el tanque interno es 10\n"
     ]
    }
   ],
   "source": [
    "#Considera hora de prelanzamiento, tiempo de vuelo, destino, tanque externo y tanque interno\n",
    "def informe(hora,tiempo,destino,cexterno,cinterno):\n",
    "    print(f\"\"\"Infrome\n",
    "    La hora de prelanzamiento es {hora}\n",
    "    El tiempo al destino es {tiempo}\n",
    "    El destino es {destino}\n",
    "    El combustible en el tanque externo es {cexterno}\n",
    "    El combustible en el tanque interno es {cinterno}\"\"\")\n",
    "\n",
    "    \n",
    "informe(1400,5000,'luna',10,10)"
   ]
  },
  {
   "cell_type": "markdown",
   "metadata": {},
   "source": [
    "La función es problemática porque no se puede adaptar para minutos adicionales o tanques adicionales de combustible. Hazlo más flexible permitiendo cualquier número de pasos basados en el tiempo y cualquier número de tanques. Asegurate que la función sea más legible mediante el uso de nombres de variables que están asociados con las entradas, como *minutes y **fuel_reservoirs:"
   ]
  },
  {
   "cell_type": "code",
   "execution_count": 16,
   "metadata": {},
   "outputs": [
    {
     "name": "stdout",
     "output_type": "stream",
     "text": [
      "Infrome\n",
      "    La hora de prelanzamiento es 1400\n",
      "    Tiempo total de viaje 49 minutos\n",
      "    El destino es luna\n",
      "    Combustible total 120\n"
     ]
    }
   ],
   "source": [
    "def informe(hora,destino,*minutes,**fuel_reservoirs):\n",
    "    print(f\"\"\"Infrome\n",
    "    La hora de prelanzamiento es {hora}\n",
    "    Tiempo total de viaje {sum(minutes)} minutos\n",
    "    El destino es {destino}\n",
    "    Combustible total {sum(fuel_reservoirs.values())}\"\"\")\n",
    "\n",
    "informe(1400,'luna',10,10,15,14,interno=40,externo=40,reserva=40)"
   ]
  },
  {
   "cell_type": "markdown",
   "metadata": {},
   "source": [
    "Debido a que el combustible que queda en los tanques es específico de cada tanque, actualiza la función para usar el nombre de cada tanque en el informe:"
   ]
  },
  {
   "cell_type": "code",
   "execution_count": 23,
   "metadata": {},
   "outputs": [
    {
     "name": "stdout",
     "output_type": "stream",
     "text": [
      "Infrome\n",
      "    La hora de prelanzamiento es 1400\n",
      "    Tiempo total de viaje 49 minutos\n",
      "    El destino es luna\n",
      "    Combustible total 120\n",
      "        El tanque interno con 40 de combustible\n",
      "        El tanque externo con 40 de combustible\n",
      "        El tanque reserva con 40 de combustible\n",
      "        \n"
     ]
    }
   ],
   "source": [
    "def informe(hora,destino,*minutes,**fuel_reservoirs):\n",
    "    inf=f\"\"\"Infrome\n",
    "    La hora de prelanzamiento es {hora}\n",
    "    Tiempo total de viaje {sum(minutes)} minutos\n",
    "    El destino es {destino}\n",
    "    Combustible total {sum(fuel_reservoirs.values())}\n",
    "        \"\"\"\n",
    "    for tanque, combustible in fuel_reservoirs.items():\n",
    "        inf=inf+f\"\"\"El tanque {tanque} con {combustible} de combustible\n",
    "        \"\"\"\n",
    "    print(inf)\n",
    "\n",
    "informe(1400,'luna',10,10,15,14,interno=40,externo=40,reserva=40)"
   ]
  }
 ],
 "metadata": {
  "interpreter": {
   "hash": "63105e6332be9db69bd9e4c07fa3f9b7aaa777aaf81a7ecd3690c386af6c300d"
  },
  "kernelspec": {
   "display_name": "Python 3.10.2 64-bit",
   "language": "python",
   "name": "python3"
  },
  "language_info": {
   "codemirror_mode": {
    "name": "ipython",
    "version": 3
   },
   "file_extension": ".py",
   "mimetype": "text/x-python",
   "name": "python",
   "nbconvert_exporter": "python",
   "pygments_lexer": "ipython3",
   "version": "3.10.2"
  },
  "orig_nbformat": 4
 },
 "nbformat": 4,
 "nbformat_minor": 2
}
