{
 "cells": [
  {
   "cell_type": "markdown",
   "metadata": {},
   "source": [
    "## Ejercicio 1: Creación de diccionarios de Python"
   ]
  },
  {
   "cell_type": "markdown",
   "metadata": {},
   "source": [
    "Agrega el código para crear un nuevo diccionario denominado 'planet'."
   ]
  },
  {
   "cell_type": "code",
   "execution_count": 3,
   "metadata": {},
   "outputs": [],
   "source": [
    "planet={'name': 'Mars','moons': 2}"
   ]
  },
  {
   "cell_type": "markdown",
   "metadata": {},
   "source": [
    "Para recuperar valores, puede utilizar el método get o corchetes ([ ]) con el nombre de la clave que desea recuperar."
   ]
  },
  {
   "cell_type": "code",
   "execution_count": 4,
   "metadata": {},
   "outputs": [
    {
     "name": "stdout",
     "output_type": "stream",
     "text": [
      "El planeta Mars tiene 2 lunas\n"
     ]
    }
   ],
   "source": [
    "print(\"El planeta \"+str(planet['name'])+\" tiene \"+str(planet['moons'])+\" lunas\")"
   ]
  },
  {
   "cell_type": "markdown",
   "metadata": {},
   "source": [
    "Agrega un nuevo valor con una clave de 'circunferencia (km)'. Este nuevo valor debería almacenar un diccionario con las dos circunferencias del planeta:"
   ]
  },
  {
   "cell_type": "code",
   "execution_count": 5,
   "metadata": {},
   "outputs": [],
   "source": [
    "planet['circunferencia (km)']={'polar': 6752,'equatorial': 6792}"
   ]
  },
  {
   "cell_type": "markdown",
   "metadata": {},
   "source": [
    "Imprime el nombre del planeta con su circunferencia polar."
   ]
  },
  {
   "cell_type": "code",
   "execution_count": 6,
   "metadata": {},
   "outputs": [
    {
     "name": "stdout",
     "output_type": "stream",
     "text": [
      "La circunferencia polar de Mars es 6752\n"
     ]
    }
   ],
   "source": [
    "print(\"La circunferencia polar de \"+str(planet['name'])+\" es \"+str(planet['circunferencia (km)']['polar']))"
   ]
  },
  {
   "cell_type": "markdown",
   "metadata": {},
   "source": [
    "## Ejercicio 2: Programación dinámica con diccionarios"
   ]
  },
  {
   "cell_type": "markdown",
   "metadata": {},
   "source": [
    "En este escenario, calcularás tanto el número total de lunas en el sistema solar como el número promedio de lunas que tiene un planeta."
   ]
  },
  {
   "cell_type": "code",
   "execution_count": 7,
   "metadata": {},
   "outputs": [],
   "source": [
    "planet_moons = {\n",
    "    'mercury': 0,\n",
    "    'venus': 0,\n",
    "    'earth': 1,\n",
    "    'mars': 2,\n",
    "    'jupiter': 79,\n",
    "    'saturn': 82,\n",
    "    'uranus': 27,\n",
    "    'neptune': 14,\n",
    "    'pluto': 5,\n",
    "    'haumea': 2,\n",
    "    'makemake': 1,\n",
    "    'eris': 1\n",
    "}"
   ]
  },
  {
   "cell_type": "markdown",
   "metadata": {},
   "source": [
    "Agrega el código a continuación para determinar el número de lunas. Comienza almacenando el valor values de planet_moons en una variable denominada moons. A continuación, almacena el número de planetas en una variable denominada planets."
   ]
  },
  {
   "cell_type": "code",
   "execution_count": 11,
   "metadata": {},
   "outputs": [
    {
     "name": "stdout",
     "output_type": "stream",
     "text": [
      "Hay 12 planetas y 214 lunas\n"
     ]
    }
   ],
   "source": [
    "planets=0\n",
    "moons=0\n",
    "\n",
    "for i in planet_moons.values():\n",
    "    planets+=1\n",
    "    moons+=i\n",
    "    \n",
    "print(f'Hay {planets} planetas y {moons} lunas')"
   ]
  },
  {
   "cell_type": "markdown",
   "metadata": {},
   "source": [
    "Finalmente calcule el promedio dividiendo total_moons por planets e imprimiendo los resultados."
   ]
  },
  {
   "cell_type": "code",
   "execution_count": 12,
   "metadata": {},
   "outputs": [
    {
     "name": "stdout",
     "output_type": "stream",
     "text": [
      "En promedio hay 17.833333333333332 lunas por planeta\n"
     ]
    }
   ],
   "source": [
    "promedio=moons/planets\n",
    "print(f'En promedio hay {promedio} lunas por planeta')"
   ]
  }
 ],
 "metadata": {
  "interpreter": {
   "hash": "63105e6332be9db69bd9e4c07fa3f9b7aaa777aaf81a7ecd3690c386af6c300d"
  },
  "kernelspec": {
   "display_name": "Python 3.10.2 64-bit",
   "language": "python",
   "name": "python3"
  },
  "language_info": {
   "codemirror_mode": {
    "name": "ipython",
    "version": 3
   },
   "file_extension": ".py",
   "mimetype": "text/x-python",
   "name": "python",
   "nbconvert_exporter": "python",
   "pygments_lexer": "ipython3",
   "version": "3.10.2"
  },
  "orig_nbformat": 4
 },
 "nbformat": 4,
 "nbformat_minor": 2
}
