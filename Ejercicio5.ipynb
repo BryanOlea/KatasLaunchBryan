{
 "cells": [
  {
   "cell_type": "markdown",
   "metadata": {},
   "source": [
    "## Ejercicio1 - Utilizar operadores aritméticos"
   ]
  },
  {
   "cell_type": "markdown",
   "metadata": {},
   "source": [
    "Exploremos cómo podemos crear un programa que pueda calcular la distancia entre dos planetas. Comenzaremos usando dos distancias de planetas: Tierra (149.597.870 km) y Júpiter (778.547.200 km)."
   ]
  },
  {
   "cell_type": "code",
   "execution_count": null,
   "metadata": {},
   "outputs": [],
   "source": [
    "tierra=149597870\n",
    "jupiter=778547200\n",
    "distancia=abs(tierra-jupiter)\n",
    "print(str(distancia)+\" km\")\n"
   ]
  },
  {
   "cell_type": "markdown",
   "metadata": {},
   "source": [
    "## Realizar la operación"
   ]
  },
  {
   "cell_type": "markdown",
   "metadata": {},
   "source": [
    "Con los valores obtenidos, es el momento de añadir el código para realizar la operación. Restarás el primer planeta del segundo para determinar la distancia en kilómetros. A continuación, puedes convertir la distancia del kilómetro en millas multiplicándola por 0.621."
   ]
  },
  {
   "cell_type": "code",
   "execution_count": null,
   "metadata": {},
   "outputs": [],
   "source": [
    "dmillas=distancia*0.621\n",
    "print(\"Distancia en millas: \"+str(dmillas)+\"\\n Distancia en km: \"+str(distancia))"
   ]
  },
  {
   "cell_type": "markdown",
   "metadata": {},
   "source": [
    "## Ejercicio 2: convierte cadenas en números y usa valores absolutos"
   ]
  },
  {
   "cell_type": "markdown",
   "metadata": {},
   "source": [
    "Crear una aplicación para trabajar con números y entrada de usuario.\n",
    "Para crear nuestra aplicación, queremos leer la distancia del sol para dos planetas, y luego mostrar la distancia entre los planetas."
   ]
  },
  {
   "cell_type": "code",
   "execution_count": 4,
   "metadata": {},
   "outputs": [
    {
     "name": "stdout",
     "output_type": "stream",
     "text": [
      "La distancia entre los planetas es : 3 Km\n",
      "La distancia en millas es de 1.863\n"
     ]
    }
   ],
   "source": [
    "p1=int(input(\"Introduzca la distancia al sol del primer planeta: \"))\n",
    "p2=int(input(\"Introduzca la distancia al sol del segundo planeta: \"))\n",
    "\n",
    "distancia=abs(p1-p2)\n",
    "\n",
    "print(\"La distancia entre los planetas es : \"+str(distancia)+\" Km\")\n",
    "print(f'La distancia en millas es de {distancia*0.621}')"
   ]
  }
 ],
 "metadata": {
  "interpreter": {
   "hash": "63105e6332be9db69bd9e4c07fa3f9b7aaa777aaf81a7ecd3690c386af6c300d"
  },
  "kernelspec": {
   "display_name": "Python 3.10.2 64-bit",
   "language": "python",
   "name": "python3"
  },
  "language_info": {
   "codemirror_mode": {
    "name": "ipython",
    "version": 3
   },
   "file_extension": ".py",
   "mimetype": "text/x-python",
   "name": "python",
   "nbconvert_exporter": "python",
   "pygments_lexer": "ipython3",
   "version": "3.10.2"
  },
  "orig_nbformat": 4
 },
 "nbformat": 4,
 "nbformat_minor": 2
}
